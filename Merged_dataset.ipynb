{
  "nbformat": 4,
  "nbformat_minor": 0,
  "metadata": {
    "colab": {
      "provenance": [],
      "authorship_tag": "ABX9TyPHVfFmgKN3KpaqKyafuLrL",
      "include_colab_link": true
    },
    "kernelspec": {
      "name": "python3",
      "display_name": "Python 3"
    },
    "language_info": {
      "name": "python"
    }
  },
  "cells": [
    {
      "cell_type": "markdown",
      "metadata": {
        "id": "view-in-github",
        "colab_type": "text"
      },
      "source": [
        "<a href=\"https://colab.research.google.com/github/Shalinda99/fyp-HFI-module/blob/data/Merged_dataset.ipynb\" target=\"_parent\"><img src=\"https://colab.research.google.com/assets/colab-badge.svg\" alt=\"Open In Colab\"/></a>"
      ]
    },
    {
      "cell_type": "markdown",
      "source": [
        "**Add Company Column and Merging all dataset**"
      ],
      "metadata": {
        "id": "35i1DTgctLkP"
      }
    },
    {
      "cell_type": "code",
      "execution_count": null,
      "metadata": {
        "id": "4ZTqnKCJ-vr-"
      },
      "outputs": [],
      "source": [
        "import pandas as pd\n",
        "import glob\n",
        "import os\n"
      ]
    },
    {
      "cell_type": "code",
      "source": [
        "folder_path = \"/content/\"  # Change if files are in another directory\n",
        "csv_files = glob.glob(os.path.join(folder_path, \"*.csv\"))  # Find all CSV files\n"
      ],
      "metadata": {
        "id": "mMMeTo6I_ERs"
      },
      "execution_count": null,
      "outputs": []
    },
    {
      "cell_type": "code",
      "source": [
        "# Create an empty list to store DataFrames\n",
        "dfs = []\n",
        "\n",
        "# Loop through all CSV files\n",
        "for file in csv_files:\n",
        "    df = pd.read_csv(file)  # Read CSV\n",
        "    company_name = os.path.basename(file).replace(\" trades.csv\", \"\")  # Extract company name\n",
        "    df[\"Company Name\"] = company_name  # Add company column\n",
        "    dfs.append(df)  # Append to list\n",
        "\n",
        "# Concatenate all DataFrames into one\n",
        "merged_df = pd.concat(dfs, ignore_index=True)\n",
        "\n",
        "# Save the combined dataset\n",
        "merged_df.to_csv(\"/content/SP_SL_20_dataset.csv\", index=False)\n",
        "\n",
        "print(\"Merged CSV saved as 'SP_SL_20_merged.csv'\")\n"
      ],
      "metadata": {
        "colab": {
          "base_uri": "https://localhost:8080/"
        },
        "id": "Y_ogcihN_LHb",
        "outputId": "2c5c39d1-e98f-4646-c379-6574b5d0fafb"
      },
      "execution_count": null,
      "outputs": [
        {
          "output_type": "stream",
          "name": "stdout",
          "text": [
            "Merged CSV saved as 'SP_SL_20_merged.csv'\n"
          ]
        }
      ]
    },
    {
      "cell_type": "code",
      "source": [
        "from google.colab import files\n",
        "files.download(\"/content/SP_SL_20_dataset.csv\")\n"
      ],
      "metadata": {
        "id": "NWPjXOyh_QEE",
        "outputId": "7415ef68-7242-4cba-dc71-ef82d9be7819",
        "colab": {
          "base_uri": "https://localhost:8080/",
          "height": 17
        }
      },
      "execution_count": null,
      "outputs": [
        {
          "output_type": "display_data",
          "data": {
            "text/plain": [
              "<IPython.core.display.Javascript object>"
            ],
            "application/javascript": [
              "\n",
              "    async function download(id, filename, size) {\n",
              "      if (!google.colab.kernel.accessAllowed) {\n",
              "        return;\n",
              "      }\n",
              "      const div = document.createElement('div');\n",
              "      const label = document.createElement('label');\n",
              "      label.textContent = `Downloading \"${filename}\": `;\n",
              "      div.appendChild(label);\n",
              "      const progress = document.createElement('progress');\n",
              "      progress.max = size;\n",
              "      div.appendChild(progress);\n",
              "      document.body.appendChild(div);\n",
              "\n",
              "      const buffers = [];\n",
              "      let downloaded = 0;\n",
              "\n",
              "      const channel = await google.colab.kernel.comms.open(id);\n",
              "      // Send a message to notify the kernel that we're ready.\n",
              "      channel.send({})\n",
              "\n",
              "      for await (const message of channel.messages) {\n",
              "        // Send a message to notify the kernel that we're ready.\n",
              "        channel.send({})\n",
              "        if (message.buffers) {\n",
              "          for (const buffer of message.buffers) {\n",
              "            buffers.push(buffer);\n",
              "            downloaded += buffer.byteLength;\n",
              "            progress.value = downloaded;\n",
              "          }\n",
              "        }\n",
              "      }\n",
              "      const blob = new Blob(buffers, {type: 'application/binary'});\n",
              "      const a = document.createElement('a');\n",
              "      a.href = window.URL.createObjectURL(blob);\n",
              "      a.download = filename;\n",
              "      div.appendChild(a);\n",
              "      a.click();\n",
              "      div.remove();\n",
              "    }\n",
              "  "
            ]
          },
          "metadata": {}
        },
        {
          "output_type": "display_data",
          "data": {
            "text/plain": [
              "<IPython.core.display.Javascript object>"
            ],
            "application/javascript": [
              "download(\"download_92c4850c-bf73-4bfe-ac79-515015f99e7d\", \"SP_SL_20_merged.csv\", 1684646)"
            ]
          },
          "metadata": {}
        }
      ]
    }
  ]
}